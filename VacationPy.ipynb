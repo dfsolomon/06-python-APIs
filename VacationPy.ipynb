{
 "cells": [
  {
   "cell_type": "markdown",
   "metadata": {},
   "source": [
    "# VacationPy\n",
    "----\n",
    "\n",
    "#### Note\n",
    "* Instructions have been included for each segment. You do not have to follow them exactly, but they are included to help you think through the steps."
   ]
  },
  {
   "cell_type": "code",
   "execution_count": 84,
   "metadata": {},
   "outputs": [],
   "source": [
    "# Dependencies and Setup\n",
    "import matplotlib.pyplot as plt\n",
    "import pandas as pd\n",
    "import numpy as np\n",
    "import requests\n",
    "import gmaps\n",
    "import os\n",
    "\n",
    "# Import API key\n",
    "from api_keys import g_key\n",
    "from api_keys import weather_api_key"
   ]
  },
  {
   "cell_type": "markdown",
   "metadata": {},
   "source": [
    "### Store Part I results into DataFrame\n",
    "* Load the csv exported in Part I to a DataFrame"
   ]
  },
  {
   "cell_type": "code",
   "execution_count": 85,
   "metadata": {},
   "outputs": [
    {
     "data": {
      "text/html": [
       "<div>\n",
       "<style scoped>\n",
       "    .dataframe tbody tr th:only-of-type {\n",
       "        vertical-align: middle;\n",
       "    }\n",
       "\n",
       "    .dataframe tbody tr th {\n",
       "        vertical-align: top;\n",
       "    }\n",
       "\n",
       "    .dataframe thead th {\n",
       "        text-align: right;\n",
       "    }\n",
       "</style>\n",
       "<table border=\"1\" class=\"dataframe\">\n",
       "  <thead>\n",
       "    <tr style=\"text-align: right;\">\n",
       "      <th></th>\n",
       "      <th>Unnamed: 0</th>\n",
       "      <th>City</th>\n",
       "      <th>Cloudiness</th>\n",
       "      <th>Country</th>\n",
       "      <th>Date</th>\n",
       "      <th>Humidity</th>\n",
       "      <th>Lat</th>\n",
       "      <th>Lng</th>\n",
       "      <th>Max Temp</th>\n",
       "      <th>Wind Speed</th>\n",
       "    </tr>\n",
       "  </thead>\n",
       "  <tbody>\n",
       "    <tr>\n",
       "      <td>0</td>\n",
       "      <td>0</td>\n",
       "      <td>Bredasdorp</td>\n",
       "      <td>0</td>\n",
       "      <td>ZA</td>\n",
       "      <td>1595190248</td>\n",
       "      <td>93</td>\n",
       "      <td>-34.53</td>\n",
       "      <td>20.04</td>\n",
       "      <td>55.4</td>\n",
       "      <td>1.63</td>\n",
       "    </tr>\n",
       "    <tr>\n",
       "      <td>1</td>\n",
       "      <td>1</td>\n",
       "      <td>Ushuaia</td>\n",
       "      <td>40</td>\n",
       "      <td>AR</td>\n",
       "      <td>1595190189</td>\n",
       "      <td>100</td>\n",
       "      <td>-54.80</td>\n",
       "      <td>-68.30</td>\n",
       "      <td>33.8</td>\n",
       "      <td>6.93</td>\n",
       "    </tr>\n",
       "    <tr>\n",
       "      <td>2</td>\n",
       "      <td>2</td>\n",
       "      <td>Laas</td>\n",
       "      <td>39</td>\n",
       "      <td>IT</td>\n",
       "      <td>1595190311</td>\n",
       "      <td>59</td>\n",
       "      <td>46.62</td>\n",
       "      <td>10.70</td>\n",
       "      <td>64.4</td>\n",
       "      <td>3.36</td>\n",
       "    </tr>\n",
       "    <tr>\n",
       "      <td>3</td>\n",
       "      <td>3</td>\n",
       "      <td>Grindavik</td>\n",
       "      <td>75</td>\n",
       "      <td>IS</td>\n",
       "      <td>1595190147</td>\n",
       "      <td>71</td>\n",
       "      <td>63.84</td>\n",
       "      <td>-22.43</td>\n",
       "      <td>50.0</td>\n",
       "      <td>8.05</td>\n",
       "    </tr>\n",
       "    <tr>\n",
       "      <td>4</td>\n",
       "      <td>4</td>\n",
       "      <td>Arraial do Cabo</td>\n",
       "      <td>0</td>\n",
       "      <td>BR</td>\n",
       "      <td>1595190252</td>\n",
       "      <td>78</td>\n",
       "      <td>-22.97</td>\n",
       "      <td>-42.03</td>\n",
       "      <td>73.4</td>\n",
       "      <td>17.22</td>\n",
       "    </tr>\n",
       "  </tbody>\n",
       "</table>\n",
       "</div>"
      ],
      "text/plain": [
       "   Unnamed: 0             City  Cloudiness Country        Date  Humidity  \\\n",
       "0           0       Bredasdorp           0      ZA  1595190248        93   \n",
       "1           1          Ushuaia          40      AR  1595190189       100   \n",
       "2           2             Laas          39      IT  1595190311        59   \n",
       "3           3        Grindavik          75      IS  1595190147        71   \n",
       "4           4  Arraial do Cabo           0      BR  1595190252        78   \n",
       "\n",
       "     Lat    Lng  Max Temp  Wind Speed  \n",
       "0 -34.53  20.04      55.4        1.63  \n",
       "1 -54.80 -68.30      33.8        6.93  \n",
       "2  46.62  10.70      64.4        3.36  \n",
       "3  63.84 -22.43      50.0        8.05  \n",
       "4 -22.97 -42.03      73.4       17.22  "
      ]
     },
     "execution_count": 85,
     "metadata": {},
     "output_type": "execute_result"
    }
   ],
   "source": [
    "csv_path = \"weatherdf.csv\"\n",
    "weatherdf = pd.read_csv(csv_path)\n",
    "weatherdf1 = weatherdf.dropna()\n",
    "weatherdf.head()"
   ]
  },
  {
   "cell_type": "markdown",
   "metadata": {},
   "source": [
    "### Humidity Heatmap\n",
    "* Configure gmaps.\n",
    "* Use the Lat and Lng as locations and Humidity as the weight.\n",
    "* Add Heatmap layer to map."
   ]
  },
  {
   "cell_type": "code",
   "execution_count": 86,
   "metadata": {},
   "outputs": [],
   "source": [
    "gmaps.configure(api_key = g_key)\n"
   ]
  },
  {
   "cell_type": "code",
   "execution_count": 88,
   "metadata": {},
   "outputs": [
    {
     "data": {
      "application/vnd.jupyter.widget-view+json": {
       "model_id": "3884eef1a94d4676a0fd04c9dad030b2",
       "version_major": 2,
       "version_minor": 0
      },
      "text/plain": [
       "Figure(layout=FigureLayout(height='420px'))"
      ]
     },
     "metadata": {},
     "output_type": "display_data"
    }
   ],
   "source": [
    "locations = weatherdf[[\"Lat\", \"Lng\"]].astype(float)\n",
    "humidity = weatherdf[\"Humidity\"].astype(float)\n",
    "fig = gmaps.figure()\n",
    "heatmap_layer = gmaps.heatmap_layer(locations, weights=humidity,\n",
    "                                   dissipating=False, max_intensity=100,\n",
    "                                   point_radius=1)\n",
    "fig.add_layer(heatmap_layer)\n",
    "fig"
   ]
  },
  {
   "cell_type": "markdown",
   "metadata": {},
   "source": [
    "### Create new DataFrame fitting weather criteria\n",
    "* Narrow down the cities to fit weather conditions.\n",
    "* Drop any rows will null values."
   ]
  },
  {
   "cell_type": "code",
   "execution_count": 89,
   "metadata": {},
   "outputs": [
    {
     "data": {
      "text/html": [
       "<div>\n",
       "<style scoped>\n",
       "    .dataframe tbody tr th:only-of-type {\n",
       "        vertical-align: middle;\n",
       "    }\n",
       "\n",
       "    .dataframe tbody tr th {\n",
       "        vertical-align: top;\n",
       "    }\n",
       "\n",
       "    .dataframe thead th {\n",
       "        text-align: right;\n",
       "    }\n",
       "</style>\n",
       "<table border=\"1\" class=\"dataframe\">\n",
       "  <thead>\n",
       "    <tr style=\"text-align: right;\">\n",
       "      <th></th>\n",
       "      <th>Unnamed: 0</th>\n",
       "      <th>City</th>\n",
       "      <th>Cloudiness</th>\n",
       "      <th>Country</th>\n",
       "      <th>Date</th>\n",
       "      <th>Humidity</th>\n",
       "      <th>Lat</th>\n",
       "      <th>Lng</th>\n",
       "      <th>Max Temp</th>\n",
       "      <th>Wind Speed</th>\n",
       "    </tr>\n",
       "  </thead>\n",
       "  <tbody>\n",
       "    <tr>\n",
       "      <td>54</td>\n",
       "      <td>54</td>\n",
       "      <td>Erenhot</td>\n",
       "      <td>0</td>\n",
       "      <td>CN</td>\n",
       "      <td>1595190316</td>\n",
       "      <td>31</td>\n",
       "      <td>43.65</td>\n",
       "      <td>111.98</td>\n",
       "      <td>71.04</td>\n",
       "      <td>7.92</td>\n",
       "    </tr>\n",
       "    <tr>\n",
       "      <td>71</td>\n",
       "      <td>71</td>\n",
       "      <td>Carmo do Paranaíba</td>\n",
       "      <td>0</td>\n",
       "      <td>BR</td>\n",
       "      <td>1595190318</td>\n",
       "      <td>55</td>\n",
       "      <td>-19.00</td>\n",
       "      <td>-46.32</td>\n",
       "      <td>71.01</td>\n",
       "      <td>4.00</td>\n",
       "    </tr>\n",
       "    <tr>\n",
       "      <td>92</td>\n",
       "      <td>92</td>\n",
       "      <td>Corinth</td>\n",
       "      <td>0</td>\n",
       "      <td>GR</td>\n",
       "      <td>1595190321</td>\n",
       "      <td>55</td>\n",
       "      <td>37.94</td>\n",
       "      <td>22.96</td>\n",
       "      <td>78.01</td>\n",
       "      <td>1.01</td>\n",
       "    </tr>\n",
       "    <tr>\n",
       "      <td>94</td>\n",
       "      <td>94</td>\n",
       "      <td>San Vicente</td>\n",
       "      <td>0</td>\n",
       "      <td>AR</td>\n",
       "      <td>1595190321</td>\n",
       "      <td>64</td>\n",
       "      <td>-26.62</td>\n",
       "      <td>-54.13</td>\n",
       "      <td>74.46</td>\n",
       "      <td>3.83</td>\n",
       "    </tr>\n",
       "    <tr>\n",
       "      <td>99</td>\n",
       "      <td>99</td>\n",
       "      <td>Ikon-Khalk</td>\n",
       "      <td>0</td>\n",
       "      <td>RU</td>\n",
       "      <td>1595190321</td>\n",
       "      <td>78</td>\n",
       "      <td>44.31</td>\n",
       "      <td>41.91</td>\n",
       "      <td>71.06</td>\n",
       "      <td>0.29</td>\n",
       "    </tr>\n",
       "  </tbody>\n",
       "</table>\n",
       "</div>"
      ],
      "text/plain": [
       "    Unnamed: 0                City  Cloudiness Country        Date  Humidity  \\\n",
       "54          54             Erenhot           0      CN  1595190316        31   \n",
       "71          71  Carmo do Paranaíba           0      BR  1595190318        55   \n",
       "92          92             Corinth           0      GR  1595190321        55   \n",
       "94          94         San Vicente           0      AR  1595190321        64   \n",
       "99          99          Ikon-Khalk           0      RU  1595190321        78   \n",
       "\n",
       "      Lat     Lng  Max Temp  Wind Speed  \n",
       "54  43.65  111.98     71.04        7.92  \n",
       "71 -19.00  -46.32     71.01        4.00  \n",
       "92  37.94   22.96     78.01        1.01  \n",
       "94 -26.62  -54.13     74.46        3.83  \n",
       "99  44.31   41.91     71.06        0.29  "
      ]
     },
     "execution_count": 89,
     "metadata": {},
     "output_type": "execute_result"
    }
   ],
   "source": [
    "#im not really sure how to proceed from here\n",
    "\n",
    "pickydf = weatherdf[weatherdf['Max Temp'] <= 80]\n",
    "pickydf1 = pickydf[pickydf['Max Temp'] >= 70]\n",
    "pickydf2 = pickydf1[pickydf1['Wind Speed'] < 10]\n",
    "pickydf3 = pickydf2[pickydf2['Cloudiness'] == 0 ]\n",
    "pickydf3.dropna()\n",
    "pickydf3.head()"
   ]
  },
  {
   "cell_type": "markdown",
   "metadata": {},
   "source": [
    "### Hotel Map\n",
    "* Store into variable named `hotel_df`.\n",
    "* Add a \"Hotel Name\" column to the DataFrame.\n",
    "* Set parameters to search for hotels with 5000 meters.\n",
    "* Hit the Google Places API for each city's coordinates.\n",
    "* Store the first Hotel result into the DataFrame.\n",
    "* Plot markers on top of the heatmap."
   ]
  },
  {
   "cell_type": "code",
   "execution_count": null,
   "metadata": {},
   "outputs": [],
   "source": []
  },
  {
   "cell_type": "code",
   "execution_count": null,
   "metadata": {},
   "outputs": [],
   "source": []
  },
  {
   "cell_type": "code",
   "execution_count": null,
   "metadata": {},
   "outputs": [],
   "source": [
    "\n"
   ]
  },
  {
   "cell_type": "code",
   "execution_count": null,
   "metadata": {},
   "outputs": [],
   "source": [
    "# NOTE: Do not change any of the code in this cell\n",
    "\n",
    "# Using the template add the hotel marks to the heatmap\n",
    "info_box_template = \"\"\"\n",
    "<dl>\n",
    "<dt>Name</dt><dd>{Hotel Name}</dd>\n",
    "<dt>City</dt><dd>{City}</dd>\n",
    "<dt>Country</dt><dd>{Country}</dd>\n",
    "</dl>\n",
    "\"\"\"\n",
    "# Store the DataFrame Row\n",
    "# NOTE: be sure to update with your DataFrame name\n",
    "hotel_info = [info_box_template.format(**row) for index, row in narrowed_city_df.iterrows()]\n",
    "locations = hotel_df[[\"Lat\", \"Lng\"]]"
   ]
  },
  {
   "cell_type": "code",
   "execution_count": null,
   "metadata": {},
   "outputs": [],
   "source": [
    "# Add marker layer ontop of heat map\n",
    "\n",
    "\n",
    "# Display Map"
   ]
  }
 ],
 "metadata": {
  "kernelspec": {
   "display_name": "Python 3",
   "language": "python",
   "name": "python3"
  },
  "language_info": {
   "codemirror_mode": {
    "name": "ipython",
    "version": 3
   },
   "file_extension": ".py",
   "mimetype": "text/x-python",
   "name": "python",
   "nbconvert_exporter": "python",
   "pygments_lexer": "ipython3",
   "version": "3.7.4"
  },
  "latex_envs": {
   "LaTeX_envs_menu_present": true,
   "autoclose": false,
   "autocomplete": true,
   "bibliofile": "biblio.bib",
   "cite_by": "apalike",
   "current_citInitial": 1,
   "eqLabelWithNumbers": true,
   "eqNumInitial": 1,
   "hotkeys": {
    "equation": "Ctrl-E",
    "itemize": "Ctrl-I"
   },
   "labels_anchors": false,
   "latex_user_defs": false,
   "report_style_numbering": false,
   "user_envs_cfg": false
  }
 },
 "nbformat": 4,
 "nbformat_minor": 2
}
